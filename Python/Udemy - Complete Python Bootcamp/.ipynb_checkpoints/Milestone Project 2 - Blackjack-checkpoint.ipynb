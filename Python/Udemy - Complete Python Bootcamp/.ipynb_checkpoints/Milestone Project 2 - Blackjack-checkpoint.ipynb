{
 "cells": [
  {
   "cell_type": "markdown",
   "metadata": {
    "collapsed": true
   },
   "source": [
    "# Milestone Project 2 - Walkthrough Steps Workbook\n",
    "Below is a set of steps for you to follow to try to create the Blackjack Milestone Project game!"
   ]
  },
  {
   "cell_type": "markdown",
   "metadata": {},
   "source": [
    "## Game Play\n",
    "To play a hand of Blackjack the following steps must be followed:\n",
    "1. Create a deck of 52 cards\n",
    "2. Shuffle the deck\n",
    "3. Ask the Player for their bet\n",
    "4. Make sure that the Player's bet does not exceed their available chips\n",
    "5. Deal two cards to the Dealer and two cards to the Player\n",
    "6. Show only one of the Dealer's cards, the other remains hidden\n",
    "7. Show both of the Player's cards\n",
    "8. Ask the Player if they wish to Hit, and take another card\n",
    "9. If the Player's hand doesn't Bust (go over 21), ask if they'd like to Hit again.\n",
    "10. If a Player Stands, play the Dealer's hand. The dealer will always Hit until the Dealer's value meets or exceeds 17\n",
    "11. Determine the winner and adjust the Player's chips accordingly\n",
    "12. Ask the Player if they'd like to play again"
   ]
  },
  {
   "cell_type": "markdown",
   "metadata": {},
   "source": [
    "## Playing Cards\n",
    "A standard deck of playing cards has four suits (Hearts, Diamonds, Spades and Clubs) and thirteen ranks (2 through 10, then the face cards Jack, Queen, King and Ace) for a total of 52 cards per deck. Jacks, Queens and Kings all have a rank of 10. Aces have a rank of either 11 or 1 as needed to reach 21 without busting. As a starting point in your program, you may want to assign variables to store a list of suits, ranks, and then use a dictionary to map ranks to values."
   ]
  },
  {
   "cell_type": "markdown",
   "metadata": {},
   "source": [
    "## The Game\n",
    "### Imports and Global Variables\n",
    "** Step 1: Import the random module. This will be used to shuffle the deck prior to dealing. Then, declare variables to store suits, ranks and values. You can develop your own system, or copy ours below. Finally, declare a Boolean value to be used to control <code>while</code> loops. This is a common practice used to control the flow of the game.**\n",
    "\n",
    "    suits = ('Hearts', 'Diamonds', 'Spades', 'Clubs')\n",
    "    ranks = ('Two', 'Three', 'Four', 'Five', 'Six', 'Seven', 'Eight', 'Nine', 'Ten', 'Jack', 'Queen', 'King', 'Ace')\n",
    "    values = {'Two':2, 'Three':3, 'Four':4, 'Five':5, 'Six':6, 'Seven':7, 'Eight':8, 'Nine':9, 'Ten':10, 'Jack':10,\n",
    "             'Queen':10, 'King':10, 'Ace':11}"
   ]
  },
  {
   "cell_type": "code",
   "execution_count": 1,
   "metadata": {},
   "outputs": [],
   "source": [
    "import random\n",
    "\n",
    "suits = ('Hearts', 'Diamonds', 'Spades', 'Clubs')\n",
    "ranks = ('Two', 'Three', 'Four', 'Five', 'Six', 'Seven', 'Eight', 'Nine', 'Ten', 'Jack', 'Queen', 'King', 'Ace')\n",
    "values = {'Two':2, 'Three':3, 'Four':4, 'Five':5, 'Six':6, 'Seven':7, 'Eight':8, 'Nine':9, 'Ten':10, 'Jack':10,\n",
    "         'Queen':10, 'King':10, 'Ace':11}\n",
    "\n",
    "playing = True"
   ]
  },
  {
   "cell_type": "markdown",
   "metadata": {},
   "source": [
    "### Class Definitions\n",
    "Consider making a Card class where each Card object has a suit and a rank, then a Deck class to hold all 52 Card objects, and can be shuffled, and finally a Hand class that holds those Cards that have been dealt to each player from the Deck."
   ]
  },
  {
   "cell_type": "markdown",
   "metadata": {},
   "source": [
    "**Step 2: Create a Card Class**<br>\n",
    "A Card object really only needs two attributes: suit and rank. You might add an attribute for \"value\" - we chose to handle value later when developing our Hand class.<br>In addition to the Card's \\_\\_init\\_\\_ method, consider adding a \\_\\_str\\_\\_ method that, when asked to print a Card, returns a string in the form \"Two of Hearts\""
   ]
  },
  {
   "cell_type": "code",
   "execution_count": 2,
   "metadata": {},
   "outputs": [],
   "source": [
    "class Card:\n",
    "    \n",
    "    def __init__(self, suit, rank):\n",
    "        self.suit = suit\n",
    "        self.rank = rank\n",
    "    \n",
    "    def __str__(self):\n",
    "        return self.rank + \" of \" + self.suit"
   ]
  },
  {
   "cell_type": "markdown",
   "metadata": {},
   "source": [
    "**Step 3: Create a Deck Class**<br>\n",
    "Here we might store 52 card objects in a list that can later be shuffled. First, though, we need to *instantiate* all 52 unique card objects and add them to our list. So long as the Card class definition appears in our code, we can build Card objects inside our Deck \\_\\_init\\_\\_ method. Consider iterating over sequences of suits and ranks to build out each card. This might appear inside a Deck class \\_\\_init\\_\\_ method:\n",
    "\n",
    "    for suit in suits:\n",
    "        for rank in ranks:\n",
    "\n",
    "In addition to an \\_\\_init\\_\\_ method we'll want to add methods to shuffle our deck, and to deal out cards during gameplay.<br><br>\n",
    "OPTIONAL: We may never need to print the contents of the deck during gameplay, but having the ability to see the cards inside it may help troubleshoot any problems that occur during development. With this in mind, consider adding a \\_\\_str\\_\\_ method to the class definition."
   ]
  },
  {
   "cell_type": "code",
   "execution_count": 3,
   "metadata": {},
   "outputs": [],
   "source": [
    "class Deck:\n",
    "    \n",
    "    def __init__(self):\n",
    "        self.deck = []  # start with an empty list\n",
    "        for suit in suits:\n",
    "            for rank in ranks:\n",
    "                self.deck.append(Card(suit, rank))\n",
    "    \n",
    "    def __str__(self):\n",
    "        deck_content = ''\n",
    "        for card in self.deck:\n",
    "            deck_content += '\\n' + card.__str__()\n",
    "        return \"The deck has: \" + deck_content\n",
    "            \n",
    "    def shuffle(self):\n",
    "        random.shuffle(self.deck)\n",
    "        \n",
    "    def deal(self):\n",
    "        single_card = self.deck.pop()\n",
    "        return single_card"
   ]
  },
  {
   "cell_type": "markdown",
   "metadata": {},
   "source": [
    "TESTING: Just to see that everything works so far, let's see what our Deck looks like!"
   ]
  },
  {
   "cell_type": "code",
   "execution_count": 4,
   "metadata": {},
   "outputs": [
    {
     "name": "stdout",
     "output_type": "stream",
     "text": [
      "The deck has: \n",
      "Eight of Clubs\n",
      "King of Clubs\n",
      "King of Diamonds\n",
      "Four of Spades\n",
      "Nine of Spades\n",
      "Six of Hearts\n",
      "Ten of Diamonds\n",
      "Seven of Hearts\n",
      "Two of Diamonds\n",
      "Seven of Clubs\n",
      "Five of Clubs\n",
      "Ace of Hearts\n",
      "Two of Clubs\n",
      "Ace of Diamonds\n",
      "Ten of Hearts\n",
      "Four of Hearts\n",
      "Eight of Hearts\n",
      "Queen of Clubs\n",
      "Ten of Clubs\n",
      "Six of Diamonds\n",
      "King of Spades\n",
      "King of Hearts\n",
      "Jack of Hearts\n",
      "Two of Spades\n",
      "Nine of Diamonds\n",
      "Five of Diamonds\n",
      "Queen of Spades\n",
      "Five of Spades\n",
      "Four of Diamonds\n",
      "Nine of Hearts\n",
      "Eight of Diamonds\n",
      "Queen of Diamonds\n",
      "Ten of Spades\n",
      "Three of Diamonds\n",
      "Jack of Spades\n",
      "Ace of Clubs\n",
      "Eight of Spades\n",
      "Three of Hearts\n",
      "Five of Hearts\n",
      "Jack of Clubs\n",
      "Three of Clubs\n",
      "Seven of Diamonds\n",
      "Queen of Hearts\n",
      "Six of Spades\n",
      "Jack of Diamonds\n",
      "Six of Clubs\n",
      "Nine of Clubs\n",
      "Four of Clubs\n",
      "Three of Spades\n",
      "Ace of Spades\n",
      "Two of Hearts\n",
      "Seven of Spades\n"
     ]
    }
   ],
   "source": [
    "test_deck = Deck()\n",
    "test_deck.shuffle()\n",
    "print(test_deck)"
   ]
  },
  {
   "cell_type": "markdown",
   "metadata": {},
   "source": [
    "Great! Now let's move on to our Hand class."
   ]
  },
  {
   "cell_type": "markdown",
   "metadata": {},
   "source": [
    "**Step 4: Create a Hand Class**<br>\n",
    "In addition to holding Card objects dealt from the Deck, the Hand class may be used to calculate the value of those cards using the values dictionary defined above. It may also need to adjust for the value of Aces when appropriate."
   ]
  },
  {
   "cell_type": "code",
   "execution_count": 5,
   "metadata": {},
   "outputs": [],
   "source": [
    "class Hand():\n",
    "    def __init__(self):\n",
    "        self.cards = []  # start with an empty list as we did in the Deck class\n",
    "        self.value = 0   # start with zero value\n",
    "        self.aces = 0    # add an attribute to keep track of aces\n",
    "    \n",
    "    def add_card(self, card):\n",
    "        self.cards.append(card)\n",
    "        self.value += values[card.rank] # Add values using a key of Rank defined in dictionary\n",
    "        \n",
    "        # Firstly, regard Ace as 1\n",
    "        if card.rank == 'Ace':\n",
    "            self.aces += 1\n",
    "    \n",
    "    def adjust_for_ace(self):\n",
    "        \n",
    "        # Condition: If Total value > 21 and Holding An Ace, then treat Ace as 1 \n",
    "        while self.value > 21 and self.aces > 0:\n",
    "            self.value -= 10 # Default Ace is defined as 11 in dictionary so substract 10\n",
    "            self.aces -= 1 # Denote that Ace is already treated as 1 to escape WHILE condition"
   ]
  },
  {
   "cell_type": "code",
   "execution_count": 6,
   "metadata": {},
   "outputs": [
    {
     "name": "stdout",
     "output_type": "stream",
     "text": [
      "This is pulled card from a deck:\n",
      "Seven of Spades\n",
      "\n",
      "\n",
      "This is the first pulled card in Player's hand:\n",
      "Seven of Spades\n",
      "7\n"
     ]
    }
   ],
   "source": [
    "# Player\n",
    "test_player = Hand()\n",
    "pulled_card = test_deck.deal() # deal() in Deck class returns a single card (instance) of Card\n",
    "print(\"This is pulled card from a deck:\")\n",
    "print(pulled_card)\n",
    "print(\"\\n\")\n",
    "\n",
    "test_player.add_card(pulled_card) # Now add to player's hand\n",
    "print(\"This is the first pulled card in Player's hand:\")\n",
    "print(test_player.cards[0])\n",
    "print(test_player.value)"
   ]
  },
  {
   "cell_type": "markdown",
   "metadata": {},
   "source": [
    "**Step 5: Create a Chips Class**<br>\n",
    "In addition to decks of cards and hands, we need to keep track of a Player's starting chips, bets, and ongoing winnings. This could be done using global variables, but in the spirit of object oriented programming, let's make a Chips class instead!"
   ]
  },
  {
   "cell_type": "code",
   "execution_count": 7,
   "metadata": {},
   "outputs": [],
   "source": [
    "class Chips:\n",
    "    \n",
    "    def __init__(self):\n",
    "        self.total = 100  # This can be set to a default value or supplied by a user input\n",
    "        self.bet = 0\n",
    "        \n",
    "    def win_bet(self):\n",
    "        self.total += self.bet\n",
    "    \n",
    "    def lose_bet(self):\n",
    "        self.total -= self.bet"
   ]
  },
  {
   "cell_type": "markdown",
   "metadata": {},
   "source": [
    "### Function Defintions\n",
    "A lot of steps are going to be repetitive. That's where functions come in! The following steps are guidelines - add or remove functions as needed in your own program."
   ]
  },
  {
   "cell_type": "markdown",
   "metadata": {},
   "source": [
    "**Step 6: Write a function for taking bets**<br>\n",
    "Since we're asking the user for an integer value, this would be a good place to use <code>try</code>/<code>except</code>. Remember to check that a Player's bet can be covered by their available chips."
   ]
  },
  {
   "cell_type": "code",
   "execution_count": 8,
   "metadata": {},
   "outputs": [],
   "source": [
    "def take_bet(chips):\n",
    "    \n",
    "    while True:\n",
    "        try:\n",
    "            chips.bet = int(input(f\"How many chips would you like to bet? Your currently available chip is {chips.total}.\\n\"))\n",
    "        except:\n",
    "            print(\"Your input is invalid. Please try it again.\")\n",
    "        else:\n",
    "            if chips.bet > chips.total:\n",
    "                print(f\"You don't have enough chips. Please try it again. Your available chip is {player_chips.total}\")\n",
    "            else:\n",
    "                break # Escaping WHILE loop to end betting"
   ]
  },
  {
   "cell_type": "markdown",
   "metadata": {},
   "source": [
    "**Step 7: Write a function for taking hits**<br>\n",
    "Either player can take hits until they bust. This function will be called during gameplay anytime a Player requests a hit, or a Dealer's hand is less than 17. It should take in Deck and Hand objects as arguments, and deal one card off the deck and add it to the Hand. You may want it to check for aces in the event that a player's hand exceeds 21."
   ]
  },
  {
   "cell_type": "code",
   "execution_count": 9,
   "metadata": {},
   "outputs": [],
   "source": [
    "def hit(deck,hand):\n",
    "    \n",
    "    single_card = deck.deal()\n",
    "    hand.add_card(single_card)\n",
    "    hand.adjust_for_ace()"
   ]
  },
  {
   "cell_type": "markdown",
   "metadata": {},
   "source": [
    "**Step 8: Write a function prompting the Player to Hit or Stand**<br>\n",
    "This function should accept the deck and the player's hand as arguments, and assign playing as a global variable.<br>\n",
    "If the Player Hits, employ the hit() function above. If the Player Stands, set the playing variable to False - this will control the behavior of a <code>while</code> loop later on in our code."
   ]
  },
  {
   "cell_type": "code",
   "execution_count": 10,
   "metadata": {},
   "outputs": [],
   "source": [
    "def hit_or_stand(deck,hand):\n",
    "    global playing  # to control an upcoming while loop\n",
    "    \n",
    "    while True:\n",
    "        x = input(\"Hit or Stand? Enter h or s: \")\n",
    "        \n",
    "        if x.lower() == 'h':\n",
    "            hit(deck, hand)\n",
    "        \n",
    "        elif x.lower() == 's':\n",
    "            print(\"Dealer turn\")\n",
    "            playing = False\n",
    "            \n",
    "        else:\n",
    "            print(\"Please enter h for Hit and s for Stand again!\")\n",
    "            continue # return to the beginning of the WHILE loop\n",
    "            \n",
    "        break"
   ]
  },
  {
   "cell_type": "markdown",
   "metadata": {},
   "source": [
    "**Step 9: Write functions to display cards**<br>\n",
    "When the game starts, and after each time Player takes a card, the dealer's first card is hidden and all of Player's cards are visible. At the end of the hand all cards are shown, and you may want to show each hand's total value. Write a function for each of these scenarios."
   ]
  },
  {
   "cell_type": "code",
   "execution_count": 11,
   "metadata": {},
   "outputs": [],
   "source": [
    "# Tip: * symbol is used to print every item in a collection, sep= is a separator\n",
    "\n",
    "def show_some(player,dealer):\n",
    "    \n",
    "    print(\"\\nDealer's Hand:\")\n",
    "    print(\" <--Hidden Card--->\")\n",
    "    print('',dealer.cards[1])  # First pulled card is hidden and the second card is revealed\n",
    "    print(\"\\nPlayer's Hand: \", *player.cards, sep='\\n ') \n",
    "    \n",
    "def show_all(player,dealer):\n",
    "    \n",
    "    print(\"\\nDealer's Hand:\", *dealer.cards, sep='\\n ')\n",
    "    print(\"Dealer's Hand: \", dealer.value)\n",
    "    print(\"\\nPlayer's Hand:\", *player.cards, sep='\\n ')\n",
    "    print(\"Player's Hand: \", player.value)"
   ]
  },
  {
   "cell_type": "markdown",
   "metadata": {},
   "source": [
    "**Step 10: Write functions to handle end of game scenarios**<br>\n",
    "Remember to pass player's hand, dealer's hand and chips as needed."
   ]
  },
  {
   "cell_type": "code",
   "execution_count": 12,
   "metadata": {},
   "outputs": [],
   "source": [
    "def player_busts(player, dealer, chips):\n",
    "    print(\"Player busted!\")\n",
    "    chips.lose_bet()\n",
    "\n",
    "def player_wins(player, dealer, chips):\n",
    "    print(\"Player wins!\")\n",
    "    chips.win_bet()\n",
    "\n",
    "def dealer_busts(player, dealer, chips):\n",
    "    print(\"Dealer busted!\")\n",
    "    chips.win_bet()\n",
    "    \n",
    "def dealer_wins(player, dealer, chips):\n",
    "    print(\"Dealer wins!\")\n",
    "    chips.lose_bet()\n",
    "    \n",
    "def push(player, dealer):\n",
    "    print(\"Tie! This is a push\")"
   ]
  },
  {
   "cell_type": "markdown",
   "metadata": {},
   "source": [
    "### And now on to the game!!"
   ]
  },
  {
   "cell_type": "code",
   "execution_count": 13,
   "metadata": {},
   "outputs": [
    {
     "name": "stdout",
     "output_type": "stream",
     "text": [
      "\n",
      "Welcome to Blackjack\n",
      "How many chips would you like to bet? Your currently available chip is 100.\n",
      "10\n",
      "\n",
      "Dealer's Hand:\n",
      " <--Hidden Card--->\n",
      " Eight of Diamonds\n",
      "\n",
      "Player's Hand: \n",
      " Seven of Diamonds\n",
      " Seven of Clubs\n",
      "Hit or Stand? Enter h or s: h\n",
      "\n",
      "Dealer's Hand:\n",
      " <--Hidden Card--->\n",
      " Eight of Diamonds\n",
      "\n",
      "Player's Hand: \n",
      " Seven of Diamonds\n",
      " Seven of Clubs\n",
      " Five of Diamonds\n",
      "Hit or Stand? Enter h or s: s\n",
      "Dealer turn\n",
      "\n",
      "Dealer's Hand:\n",
      " <--Hidden Card--->\n",
      " Eight of Diamonds\n",
      "\n",
      "Player's Hand: \n",
      " Seven of Diamonds\n",
      " Seven of Clubs\n",
      " Five of Diamonds\n",
      "\n",
      "Dealer's Hand:\n",
      " Queen of Diamonds\n",
      " Eight of Diamonds\n",
      "Dealer's Hand:  18\n",
      "\n",
      "Player's Hand:\n",
      " Seven of Diamonds\n",
      " Seven of Clubs\n",
      " Five of Diamonds\n",
      "Player's Hand:  19\n",
      "Player wins!\n",
      "\n",
      "Player total chips are: 110\n",
      "Would you like to play another hand? Enter y or n: samplewronginput\n",
      "Please check your input again!\n",
      "Would you like to play another hand? Enter y or n: y\n",
      "How many chips would you like to bet? Your currently available chip is 110.\n",
      "50\n",
      "\n",
      "Dealer's Hand:\n",
      " <--Hidden Card--->\n",
      " Ace of Hearts\n",
      "\n",
      "Player's Hand: \n",
      " Four of Spades\n",
      " Seven of Spades\n",
      "Hit or Stand? Enter h or s: h\n",
      "\n",
      "Dealer's Hand:\n",
      " <--Hidden Card--->\n",
      " Ace of Hearts\n",
      "\n",
      "Player's Hand: \n",
      " Four of Spades\n",
      " Seven of Spades\n",
      " Two of Hearts\n",
      "Hit or Stand? Enter h or s: h\n",
      "\n",
      "Dealer's Hand:\n",
      " <--Hidden Card--->\n",
      " Ace of Hearts\n",
      "\n",
      "Player's Hand: \n",
      " Four of Spades\n",
      " Seven of Spades\n",
      " Two of Hearts\n",
      " Queen of Spades\n",
      "Player busted!\n",
      "\n",
      "Player total chips are: 60\n",
      "Would you like to play another hand? Enter y or n: y\n",
      "How many chips would you like to bet? Your currently available chip is 60.\n",
      "50\n",
      "\n",
      "Dealer's Hand:\n",
      " <--Hidden Card--->\n",
      " Ace of Diamonds\n",
      "\n",
      "Player's Hand: \n",
      " Four of Spades\n",
      " Nine of Diamonds\n",
      "Hit or Stand? Enter h or s: h\n",
      "\n",
      "Dealer's Hand:\n",
      " <--Hidden Card--->\n",
      " Ace of Diamonds\n",
      "\n",
      "Player's Hand: \n",
      " Four of Spades\n",
      " Nine of Diamonds\n",
      " Nine of Clubs\n",
      "Player busted!\n",
      "\n",
      "Player total chips are: 10\n",
      "Would you like to play another hand? Enter y or n: y\n",
      "How many chips would you like to bet? Your currently available chip is 10.\n",
      "10\n",
      "\n",
      "Dealer's Hand:\n",
      " <--Hidden Card--->\n",
      " Eight of Spades\n",
      "\n",
      "Player's Hand: \n",
      " Four of Clubs\n",
      " Seven of Diamonds\n",
      "Hit or Stand? Enter h or s: h\n",
      "\n",
      "Dealer's Hand:\n",
      " <--Hidden Card--->\n",
      " Eight of Spades\n",
      "\n",
      "Player's Hand: \n",
      " Four of Clubs\n",
      " Seven of Diamonds\n",
      " Ace of Hearts\n",
      "Hit or Stand? Enter h or s: h\n",
      "\n",
      "Dealer's Hand:\n",
      " <--Hidden Card--->\n",
      " Eight of Spades\n",
      "\n",
      "Player's Hand: \n",
      " Four of Clubs\n",
      " Seven of Diamonds\n",
      " Ace of Hearts\n",
      " Three of Spades\n",
      "Hit or Stand? Enter h or s: s\n",
      "Dealer turn\n",
      "\n",
      "Dealer's Hand:\n",
      " <--Hidden Card--->\n",
      " Eight of Spades\n",
      "\n",
      "Player's Hand: \n",
      " Four of Clubs\n",
      " Seven of Diamonds\n",
      " Ace of Hearts\n",
      " Three of Spades\n",
      "\n",
      "Dealer's Hand:\n",
      " Jack of Spades\n",
      " Eight of Spades\n",
      "Dealer's Hand:  18\n",
      "\n",
      "Player's Hand:\n",
      " Four of Clubs\n",
      " Seven of Diamonds\n",
      " Ace of Hearts\n",
      " Three of Spades\n",
      "Player's Hand:  15\n",
      "Dealer wins!\n",
      "\n",
      "Player total chips are: 0\n",
      "Would you like to play another hand? Enter y or n: y\n",
      "Sorry, you don't have enough chips. Game ends automatically.\n"
     ]
    }
   ],
   "source": [
    "# Print an opening statement\n",
    "print(\"\\nWelcome to Blackjack\")\n",
    "user_quit = True\n",
    "\n",
    "# Set up the Player's chips\n",
    "player_chips = Chips()\n",
    "\n",
    "while True and player_chips.total > 0 and user_quit:\n",
    "    \n",
    "    # Create & shuffle the deck, deal two cards to each player\n",
    "    deck = Deck()\n",
    "    deck.shuffle()\n",
    "    \n",
    "    player_hand = Hand()\n",
    "    dealer_hand = Hand()\n",
    "    \n",
    "    player_hand.add_card(deck.deal())\n",
    "    dealer_hand.add_card(deck.deal())\n",
    "    \n",
    "    player_hand.add_card(deck.deal())\n",
    "    dealer_hand.add_card(deck.deal())\n",
    "    \n",
    "\n",
    "    \n",
    "    # Prompt the Player for their bet\n",
    "    take_bet(player_chips)\n",
    "    \n",
    "    # Show cards (but keep one dealer card hidden)\n",
    "    show_some(player_hand, dealer_hand)\n",
    "    playing = True\n",
    "    \n",
    "    while playing:  # recall this variable from our hit_or_stand function\n",
    "        \n",
    "        # Prompt for Player to Hit or Stand\n",
    "        hit_or_stand(deck, player_hand)\n",
    "        \n",
    "        # Show cards (but keep one dealer card hidden)\n",
    "        show_some(player_hand, dealer_hand)\n",
    "        \n",
    "        # If player's hand exceeds 21, run player_busts() and break out of loop\n",
    "        if player_hand.value > 21:\n",
    "            player_busts(player_hand, dealer_hand, player_chips)\n",
    "\n",
    "            break\n",
    "\n",
    "    # If Player hasn't busted, play Dealer's hand until Dealer reaches 17\n",
    "    if player_hand.value <= 21:\n",
    "        \n",
    "        while dealer_hand.value < 17:\n",
    "            hit(deck, dealer_hand)\n",
    "    \n",
    "        # Show all cards\n",
    "        show_all(player_hand, dealer_hand)\n",
    "        \n",
    "        # Run different winning scenarios\n",
    "        if dealer_hand.value > 21:\n",
    "            dealer_busts(player_hand, dealer_hand, player_chips)\n",
    "        elif dealer_hand.value > player_hand.value:\n",
    "            dealer_wins(player_hand, dealer_hand, player_chips)\n",
    "        elif dealer_hand.value < player_hand.value:\n",
    "            player_wins(player_hand, dealer_hand, player_chips)\n",
    "        else:\n",
    "            push(player_hand, dealer_hand)\n",
    "  \n",
    "    if player_hand.value == 21:\n",
    "        \n",
    "        # Show all cards\n",
    "        show_all(player_hand, dealer_hand)\n",
    "        player_wins(player_hand, dealer_hand, player_chips)\n",
    "        \n",
    "        \n",
    "    # Inform Player of their chips total \n",
    "    print(f\"\\nPlayer total chips are: {player_chips.total}\")\n",
    "          \n",
    "    # Ask to play again\n",
    "    while True:\n",
    "        new_game = input(\"Would you like to play another hand? Enter y or n: \")\n",
    "        \n",
    "        if new_game[0].lower()=='y':\n",
    "            playing = True\n",
    "    \n",
    "        elif new_game[0].lower()=='n':\n",
    "            print(\"\\nGame ended\")\n",
    "            user_quit = False\n",
    "            break\n",
    "      \n",
    "        else:\n",
    "            print(\"Please check your input again!\")\n",
    "            continue\n",
    "      \n",
    "        break\n",
    "        \n",
    "if player_chips.total == 0:\n",
    "    print(\"Sorry, you don't have enough chips. Game ends automatically.\")"
   ]
  },
  {
   "cell_type": "markdown",
   "metadata": {},
   "source": [
    "And that's it! Remember, these steps may differ significantly from your own solution. That's OK! Keep working on different sections of your program until you get the desired results. It takes a lot of time and patience! As always, feel free to post questions and comments to the QA Forums.\n",
    "# Good job!"
   ]
  }
 ],
 "metadata": {
  "kernelspec": {
   "display_name": "Python 3",
   "language": "python",
   "name": "python3"
  },
  "language_info": {
   "codemirror_mode": {
    "name": "ipython",
    "version": 3
   },
   "file_extension": ".py",
   "mimetype": "text/x-python",
   "name": "python",
   "nbconvert_exporter": "python",
   "pygments_lexer": "ipython3",
   "version": "3.7.0"
  }
 },
 "nbformat": 4,
 "nbformat_minor": 1
}
