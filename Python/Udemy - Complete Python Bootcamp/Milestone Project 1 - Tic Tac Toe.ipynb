{
 "cells": [
  {
   "cell_type": "markdown",
   "metadata": {},
   "source": [
    "# Milestone Project 1: Walkthrough Steps Workbook\n",
    "\n",
    "Below is a set of steps for you to follow to try to create the Tic Tac Toe Milestone Project game!"
   ]
  },
  {
   "cell_type": "markdown",
   "metadata": {},
   "source": [
    "#### Some suggested tools before you get started:\n",
    "To take input from a user:\n",
    "\n",
    "    player1 = input(\"Please pick a marker 'X' or 'O'\")\n",
    "    \n",
    "Note that input() takes in a string. If you need an integer value, use\n",
    "\n",
    "    position = int(input('Please enter a number'))\n",
    "    \n",
    "<br>To clear the screen between moves:\n",
    "\n",
    "    from IPython.display import clear_output\n",
    "    clear_output()\n",
    "    \n",
    "Note that clear_output() will only work in jupyter. To clear the screen in other IDEs, consider:\n",
    "\n",
    "    print('\\n'*100)\n",
    "    \n",
    "This scrolls the previous board up out of view. Now on to the program!"
   ]
  },
  {
   "cell_type": "markdown",
   "metadata": {},
   "source": [
    "**Step 1: Write a function that can print out a board. Set up your board as a list, where each index 1-9 corresponds with a number on a number pad, so you get a 3 by 3 board representation.**"
   ]
  },
  {
   "cell_type": "code",
   "execution_count": 1,
   "metadata": {},
   "outputs": [],
   "source": [
    "from IPython.display import clear_output\n",
    "\n",
    "def display_board(board):\n",
    "    clear_output()\n",
    "    print('|-----------|')   \n",
    "    print('| '+board[7]+' | '+board[8]+' | '+board[9]+' |')\n",
    "    print('|-----------|')\n",
    "    print('| '+board[4]+' | '+board[5]+' | '+board[6]+' |')\n",
    "    print('|-----------|')    \n",
    "    print('| '+board[1]+' | '+board[2]+' | '+board[3]+' |')\n",
    "    print('|-----------|')   "
   ]
  },
  {
   "cell_type": "markdown",
   "metadata": {},
   "source": [
    "**TEST Step 1:** run your function on a test version of the board list, and make adjustments as necessary"
   ]
  },
  {
   "cell_type": "code",
   "execution_count": 2,
   "metadata": {},
   "outputs": [
    {
     "name": "stdout",
     "output_type": "stream",
     "text": [
      "|-----------|\n",
      "| X | O | X |\n",
      "|-----------|\n",
      "| O | X | O |\n",
      "|-----------|\n",
      "| X | O | X |\n",
      "|-----------|\n"
     ]
    }
   ],
   "source": [
    "test_board = ['#','X','O','X','O','X','O','X','O','X']\n",
    "display_board(test_board)"
   ]
  },
  {
   "cell_type": "markdown",
   "metadata": {},
   "source": [
    "**Step 2: Write a function that can take in a player input and assign their marker as 'X' or 'O'. Think about using *while* loops to continually ask until you get a correct answer.**"
   ]
  },
  {
   "cell_type": "code",
   "execution_count": 3,
   "metadata": {},
   "outputs": [],
   "source": [
    "def player_input():\n",
    "    \n",
    "    marker=''\n",
    "    while marker != 'X' and marker != 'O':\n",
    "        marker = input(\"Player 1: Choose X or O. Your choice: \").upper()\n",
    "        if marker != 'X' and marker != 'O':\n",
    "            print(\"ERROR: Check your input. Type either X or O only.\")\n",
    "            \n",
    "    if marker == 'X':\n",
    "        print(\"Player 1 is now X.\")\n",
    "        print(\"Player 2 is now O.\")\n",
    "        print(\"Ready to start!\")\n",
    "        return ('X','O')\n",
    "\n",
    "    elif marker == 'O':\n",
    "        print(\"Player 1 is now O.\")\n",
    "        print(\"Player 2 is now X.\")\n",
    "        print(\"Ready to start!\")      \n",
    "        return ('O','X')"
   ]
  },
  {
   "cell_type": "markdown",
   "metadata": {},
   "source": [
    "**TEST Step 2:** run the function to make sure it returns the desired output"
   ]
  },
  {
   "cell_type": "code",
   "execution_count": 4,
   "metadata": {},
   "outputs": [
    {
     "name": "stdout",
     "output_type": "stream",
     "text": [
      "Player 1: Choose X or O. Your choice: X\n",
      "Player 1 is now X.\n",
      "Player 2 is now O.\n",
      "Ready to start!\n"
     ]
    },
    {
     "data": {
      "text/plain": [
       "('X', 'O')"
      ]
     },
     "execution_count": 4,
     "metadata": {},
     "output_type": "execute_result"
    }
   ],
   "source": [
    "player_input()"
   ]
  },
  {
   "cell_type": "code",
   "execution_count": 5,
   "metadata": {},
   "outputs": [
    {
     "name": "stdout",
     "output_type": "stream",
     "text": [
      "Player 1: Choose X or O. Your choice: X\n",
      "Player 1 is now X.\n",
      "Player 2 is now O.\n",
      "Ready to start!\n"
     ]
    }
   ],
   "source": [
    "player1_marker, player2_marker = player_input()"
   ]
  },
  {
   "cell_type": "markdown",
   "metadata": {},
   "source": [
    "**Step 3: Write a function that takes in the board list object, a marker ('X' or 'O'), and a desired position (number 1-9) and assigns it to the board.**"
   ]
  },
  {
   "cell_type": "code",
   "execution_count": 6,
   "metadata": {},
   "outputs": [],
   "source": [
    "def place_marker(board, marker, position):\n",
    "    board[position] = marker"
   ]
  },
  {
   "cell_type": "markdown",
   "metadata": {},
   "source": [
    "**TEST Step 3:** run the place marker function using test parameters and display the modified board"
   ]
  },
  {
   "cell_type": "code",
   "execution_count": 7,
   "metadata": {},
   "outputs": [
    {
     "name": "stdout",
     "output_type": "stream",
     "text": [
      "|-----------|\n",
      "| X | $ | X |\n",
      "|-----------|\n",
      "| O | X | O |\n",
      "|-----------|\n",
      "| X | O | X |\n",
      "|-----------|\n"
     ]
    }
   ],
   "source": [
    "place_marker(test_board,'$',8)\n",
    "display_board(test_board)"
   ]
  },
  {
   "cell_type": "markdown",
   "metadata": {},
   "source": [
    "**Step 4: Write a function that takes in a board and a mark (X or O) and then checks to see if that mark has won. **"
   ]
  },
  {
   "cell_type": "code",
   "execution_count": 8,
   "metadata": {},
   "outputs": [],
   "source": [
    "def win_check(board, mark):\n",
    "\n",
    "    #check horizontal lines\n",
    "    if (board[1]==board[2]==board[3]==mark) or (board[4]==board[5]==board[6]==mark) or (board[7]==board[8]==board[9]==mark):\n",
    "        print(mark +\" won!\")    \n",
    "        return True\n",
    "    #check vertical lines\n",
    "    if (board[1]==board[4]==board[7]==mark) or (board[2]==board[5]==board[8]==mark) or (board[3]==board[6]==board[9]==mark):\n",
    "        print(mark +\" won!\")\n",
    "        return True\n",
    "    #check diagonal lines\n",
    "    if (board[1]==board[5]==board[9]==mark) or (board[3]==board[5]==board[7]==mark):\n",
    "        print(mark +\" won!\")\n",
    "        return True\n",
    "    else:\n",
    "        print(\"Keep going. Next turn.\")"
   ]
  },
  {
   "cell_type": "markdown",
   "metadata": {},
   "source": [
    "**TEST Step 4:** run the win_check function against our test_board - it should return True"
   ]
  },
  {
   "cell_type": "code",
   "execution_count": 9,
   "metadata": {},
   "outputs": [
    {
     "name": "stdout",
     "output_type": "stream",
     "text": [
      "X won!\n"
     ]
    },
    {
     "data": {
      "text/plain": [
       "True"
      ]
     },
     "execution_count": 9,
     "metadata": {},
     "output_type": "execute_result"
    }
   ],
   "source": [
    "win_check(test_board,'X')"
   ]
  },
  {
   "cell_type": "markdown",
   "metadata": {},
   "source": [
    "**Step 5: Write a function that uses the random module to randomly decide which player goes first. You may want to lookup random.randint() Return a string of which player went first.**"
   ]
  },
  {
   "cell_type": "code",
   "execution_count": 10,
   "metadata": {},
   "outputs": [],
   "source": [
    "import random\n",
    "\n",
    "def choose_first():\n",
    "    player1_num = 0\n",
    "    player2_num = 0\n",
    "    while player1_num == player2_num:\n",
    "        player1_num = random.randint(0,10)\n",
    "        player2_num = random.randint(0,10)\n",
    "    if player1_num > player2_num:\n",
    "        return \"Player 1 goes first.\"\n",
    "    else:\n",
    "        return \"Player 2 goes first.\"\n",
    "        "
   ]
  },
  {
   "cell_type": "markdown",
   "metadata": {},
   "source": [
    "**Step 6: Write a function that returns a boolean indicating whether a space on the board is freely available.**"
   ]
  },
  {
   "cell_type": "code",
   "execution_count": 11,
   "metadata": {},
   "outputs": [],
   "source": [
    "def space_check(board, position):\n",
    "    if board[position] == ' ':\n",
    "        print(\"You can place your marker on {}\".format(position))\n",
    "        return True\n",
    "    else:\n",
    "        return False\n",
    "        print(\"It is already taken. Choose a different position.\") \n",
    "        \n",
    "        \n",
    "#    return board[position]== ' '"
   ]
  },
  {
   "cell_type": "markdown",
   "metadata": {},
   "source": [
    "**Step 7: Write a function that checks if the board is full and returns a boolean value. True if full, False otherwise.**"
   ]
  },
  {
   "cell_type": "code",
   "execution_count": 12,
   "metadata": {},
   "outputs": [],
   "source": [
    "def full_board_check(board):\n",
    "    for element in board:\n",
    "        if element == ' ':\n",
    "            return False\n",
    "        else:\n",
    "            return True\n",
    "#        \n",
    "#    for i in range(1,10):\n",
    "#        if space_check(board,i):\n",
    "#            return False\n",
    "#    return True\n",
    "#"
   ]
  },
  {
   "cell_type": "markdown",
   "metadata": {},
   "source": [
    "**Step 8: Write a function that asks for a player's next position (as a number 1-9) and then uses the function from step 6 to check if it's a free position. If it is, then return the position for later use.**"
   ]
  },
  {
   "cell_type": "code",
   "execution_count": 13,
   "metadata": {},
   "outputs": [],
   "source": [
    "def player_choice(board):\n",
    "    \n",
    "    position = 0\n",
    "    \n",
    "    while position not in range(1,10) or not space_check(board,position):\n",
    "        position = int(input(\"Choose your position 1 through 9: \"))\n",
    "        \n",
    "    return position"
   ]
  },
  {
   "cell_type": "markdown",
   "metadata": {},
   "source": [
    "**Step 9: Write a function that asks the player if they want to play again and returns a boolean True if they do want to play again.**"
   ]
  },
  {
   "cell_type": "code",
   "execution_count": 14,
   "metadata": {},
   "outputs": [],
   "source": [
    "def replay():\n",
    "    choice = ''\n",
    "    \n",
    "    while choice == 'Y' or choice == 'N':\n",
    "        choice = input(\"Do you want to play again? Y/N\").upper()"
   ]
  },
  {
   "cell_type": "markdown",
   "metadata": {
    "collapsed": true
   },
   "source": [
    "**Step 10: Here comes the hard part! Use while loops and the functions you've made to run the game!**"
   ]
  },
  {
   "cell_type": "code",
   "execution_count": 15,
   "metadata": {},
   "outputs": [
    {
     "name": "stdout",
     "output_type": "stream",
     "text": [
      "|-----------|\n",
      "| O |   |   |\n",
      "|-----------|\n",
      "| X | O | X |\n",
      "|-----------|\n",
      "| O | X | O |\n",
      "|-----------|\n",
      "Player 2 won!\n"
     ]
    }
   ],
   "source": [
    "print('Welcome to Tic Tac Toe!')\n",
    "\n",
    "while True:\n",
    "    # Set the game up here\n",
    "    board = [' ']*10\n",
    "    player1_marker, player2_marker = player_input()\n",
    "    turn = choose_first()\n",
    "    \n",
    "    play_game = input('Ready? (Y/N)').upper()\n",
    "    \n",
    "    if play_game == 'Y':\n",
    "        game_on = True\n",
    "    else:\n",
    "        game_on = False\n",
    "        print(\"Please restart the game.\")\n",
    "\n",
    "    #Game Begins    \n",
    "    \n",
    "    while game_on:\n",
    "        \n",
    "        if turn == 'Player 1':\n",
    "            \n",
    "            display_board(board)\n",
    "            position = player_choice(board)\n",
    "            place_marker(board,player1_marker,position)\n",
    "            \n",
    "            if win_check(board,player1_marker):\n",
    "                display_board(board)\n",
    "                print('Player 1 won!')\n",
    "                game_on = False\n",
    "            else:\n",
    "                if full_board_check(board):\n",
    "                    display_board(board)\n",
    "                    print(\"Tie!\")\n",
    "                    game_on = False\n",
    "                    break\n",
    "                else:\n",
    "                    turn = 'Player 2'\n",
    "               \n",
    "        else:\n",
    "            \n",
    "            display_board(board)\n",
    "            position = player_choice(board)\n",
    "            place_marker(board,player2_marker,position)\n",
    "            \n",
    "            if win_check(board,player2_marker):\n",
    "                display_board(board)\n",
    "                print('Player 2 won!')\n",
    "                game_on = False\n",
    "            else:\n",
    "                if full_board_check(board):\n",
    "                    display_board(board)\n",
    "                    print(\"Tie!\")\n",
    "                    game_on = False\n",
    "                    break\n",
    "                else:\n",
    "                    turn = 'Player 1'\n",
    "\n",
    "    if not replay():\n",
    "        break"
   ]
  },
  {
   "cell_type": "markdown",
   "metadata": {
    "collapsed": true
   },
   "source": [
    "## Good Job!"
   ]
  }
 ],
 "metadata": {
  "kernelspec": {
   "display_name": "Python 3",
   "language": "python",
   "name": "python3"
  },
  "language_info": {
   "codemirror_mode": {
    "name": "ipython",
    "version": 3
   },
   "file_extension": ".py",
   "mimetype": "text/x-python",
   "name": "python",
   "nbconvert_exporter": "python",
   "pygments_lexer": "ipython3",
   "version": "3.7.0"
  }
 },
 "nbformat": 4,
 "nbformat_minor": 1
}
