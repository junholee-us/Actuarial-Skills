{
 "cells": [
  {
   "cell_type": "markdown",
   "metadata": {},
   "source": [
    "# Choropleth Maps Individual Project \n",
    "\n",
    "This is an individual small project with the U.S. population dataset.\n",
    "The dataset is obtained on the US Census Bureau page.\n",
    "\n",
    "To manipulate the data more easily in the project, only selected columns are extracted to a separate csv file.\n",
    "\n",
    "The following link redirects the source page for more information.\n",
    "[US Population Estimate Data](https://www.census.gov/data/datasets/time-series/demo/popest/2010s-national-total.html)\n",
    "\n",
    "## Import necessary libraries"
   ]
  },
  {
   "cell_type": "code",
   "execution_count": 1,
   "metadata": {},
   "outputs": [
    {
     "data": {
      "text/html": [
       "<script type=\"text/javascript\">window.PlotlyConfig = {MathJaxConfig: 'local'};</script><script type=\"text/javascript\">if (window.MathJax) {MathJax.Hub.Config({SVG: {font: \"STIX-Web\"}});}</script><script>requirejs.config({paths: { 'plotly': ['https://cdn.plot.ly/plotly-latest.min']},});if(!window._Plotly) {require(['plotly'],function(plotly) {window._Plotly=plotly;});}</script>"
      ],
      "text/vnd.plotly.v1+html": [
       "<script type=\"text/javascript\">window.PlotlyConfig = {MathJaxConfig: 'local'};</script><script type=\"text/javascript\">if (window.MathJax) {MathJax.Hub.Config({SVG: {font: \"STIX-Web\"}});}</script><script>requirejs.config({paths: { 'plotly': ['https://cdn.plot.ly/plotly-latest.min']},});if(!window._Plotly) {require(['plotly'],function(plotly) {window._Plotly=plotly;});}</script>"
      ]
     },
     "metadata": {},
     "output_type": "display_data"
    }
   ],
   "source": [
    "import seaborn as sns\n",
    "import plotly.graph_objs as go \n",
    "from plotly.offline import init_notebook_mode,iplot\n",
    "init_notebook_mode(connected=True) "
   ]
  },
  {
   "cell_type": "markdown",
   "metadata": {},
   "source": [
    "Next, import the data using pandas."
   ]
  },
  {
   "cell_type": "code",
   "execution_count": 2,
   "metadata": {},
   "outputs": [],
   "source": [
    "import pandas as pd\n",
    "df = pd.read_csv('US_Population_Estimates.csv')"
   ]
  },
  {
   "cell_type": "code",
   "execution_count": 3,
   "metadata": {},
   "outputs": [
    {
     "name": "stdout",
     "output_type": "stream",
     "text": [
      "<class 'pandas.core.frame.DataFrame'>\n",
      "RangeIndex: 51 entries, 0 to 50\n",
      "Data columns (total 11 columns):\n",
      "State        51 non-null object\n",
      "State Abv    51 non-null object\n",
      "2010         51 non-null int64\n",
      "2011         51 non-null int64\n",
      "2012         51 non-null int64\n",
      "2013         51 non-null int64\n",
      "2014         51 non-null int64\n",
      "2015         51 non-null int64\n",
      "2016         51 non-null int64\n",
      "2017         51 non-null int64\n",
      "2018         51 non-null int64\n",
      "dtypes: int64(9), object(2)\n",
      "memory usage: 4.5+ KB\n"
     ]
    }
   ],
   "source": [
    "df.info()"
   ]
  },
  {
   "cell_type": "code",
   "execution_count": 4,
   "metadata": {},
   "outputs": [
    {
     "data": {
      "text/html": [
       "<div>\n",
       "<style scoped>\n",
       "    .dataframe tbody tr th:only-of-type {\n",
       "        vertical-align: middle;\n",
       "    }\n",
       "\n",
       "    .dataframe tbody tr th {\n",
       "        vertical-align: top;\n",
       "    }\n",
       "\n",
       "    .dataframe thead th {\n",
       "        text-align: right;\n",
       "    }\n",
       "</style>\n",
       "<table border=\"1\" class=\"dataframe\">\n",
       "  <thead>\n",
       "    <tr style=\"text-align: right;\">\n",
       "      <th></th>\n",
       "      <th>State</th>\n",
       "      <th>State Abv</th>\n",
       "      <th>2010</th>\n",
       "      <th>2011</th>\n",
       "      <th>2012</th>\n",
       "      <th>2013</th>\n",
       "      <th>2014</th>\n",
       "      <th>2015</th>\n",
       "      <th>2016</th>\n",
       "      <th>2017</th>\n",
       "      <th>2018</th>\n",
       "    </tr>\n",
       "  </thead>\n",
       "  <tbody>\n",
       "    <tr>\n",
       "      <th>0</th>\n",
       "      <td>Alabama</td>\n",
       "      <td>AL</td>\n",
       "      <td>4785448</td>\n",
       "      <td>4798834</td>\n",
       "      <td>4815564</td>\n",
       "      <td>4830460</td>\n",
       "      <td>4842481</td>\n",
       "      <td>4853160</td>\n",
       "      <td>4864745</td>\n",
       "      <td>4875120</td>\n",
       "      <td>4887871</td>\n",
       "    </tr>\n",
       "    <tr>\n",
       "      <th>1</th>\n",
       "      <td>Alaska</td>\n",
       "      <td>AK</td>\n",
       "      <td>713906</td>\n",
       "      <td>722038</td>\n",
       "      <td>730399</td>\n",
       "      <td>737045</td>\n",
       "      <td>736307</td>\n",
       "      <td>737547</td>\n",
       "      <td>741504</td>\n",
       "      <td>739786</td>\n",
       "      <td>737438</td>\n",
       "    </tr>\n",
       "    <tr>\n",
       "      <th>2</th>\n",
       "      <td>Arizona</td>\n",
       "      <td>AZ</td>\n",
       "      <td>6407774</td>\n",
       "      <td>6473497</td>\n",
       "      <td>6556629</td>\n",
       "      <td>6634999</td>\n",
       "      <td>6733840</td>\n",
       "      <td>6833596</td>\n",
       "      <td>6945452</td>\n",
       "      <td>7048876</td>\n",
       "      <td>7171646</td>\n",
       "    </tr>\n",
       "    <tr>\n",
       "      <th>3</th>\n",
       "      <td>Arkansas</td>\n",
       "      <td>AR</td>\n",
       "      <td>2921978</td>\n",
       "      <td>2940407</td>\n",
       "      <td>2952109</td>\n",
       "      <td>2959549</td>\n",
       "      <td>2967726</td>\n",
       "      <td>2978407</td>\n",
       "      <td>2990410</td>\n",
       "      <td>3002997</td>\n",
       "      <td>3013825</td>\n",
       "    </tr>\n",
       "    <tr>\n",
       "      <th>4</th>\n",
       "      <td>California</td>\n",
       "      <td>CA</td>\n",
       "      <td>37320903</td>\n",
       "      <td>37641823</td>\n",
       "      <td>37960782</td>\n",
       "      <td>38280824</td>\n",
       "      <td>38625139</td>\n",
       "      <td>38953142</td>\n",
       "      <td>39209127</td>\n",
       "      <td>39399349</td>\n",
       "      <td>39557045</td>\n",
       "    </tr>\n",
       "  </tbody>\n",
       "</table>\n",
       "</div>"
      ],
      "text/plain": [
       "        State State Abv      2010      2011      2012      2013      2014  \\\n",
       "0     Alabama        AL   4785448   4798834   4815564   4830460   4842481   \n",
       "1      Alaska        AK    713906    722038    730399    737045    736307   \n",
       "2     Arizona        AZ   6407774   6473497   6556629   6634999   6733840   \n",
       "3    Arkansas        AR   2921978   2940407   2952109   2959549   2967726   \n",
       "4  California        CA  37320903  37641823  37960782  38280824  38625139   \n",
       "\n",
       "       2015      2016      2017      2018  \n",
       "0   4853160   4864745   4875120   4887871  \n",
       "1    737547    741504    739786    737438  \n",
       "2   6833596   6945452   7048876   7171646  \n",
       "3   2978407   2990410   3002997   3013825  \n",
       "4  38953142  39209127  39399349  39557045  "
      ]
     },
     "execution_count": 4,
     "metadata": {},
     "output_type": "execute_result"
    }
   ],
   "source": [
    "df.head()"
   ]
  },
  {
   "cell_type": "markdown",
   "metadata": {},
   "source": [
    "Now, let's draw the most recent population data on the US map."
   ]
  },
  {
   "cell_type": "code",
   "execution_count": 5,
   "metadata": {},
   "outputs": [],
   "source": [
    "data = dict(type='choropleth',\n",
    "            colorscale = 'Viridis',\n",
    "            reversescale = True,\n",
    "            locations = df['State Abv'],\n",
    "            z = df['2018'],\n",
    "            locationmode = 'USA-states',\n",
    "            text = df['State'],\n",
    "            colorbar = {'title':\"US Population Estimates\"}\n",
    "            ) "
   ]
  },
  {
   "cell_type": "code",
   "execution_count": 6,
   "metadata": {},
   "outputs": [],
   "source": [
    "layout = dict(title = 'US Population Estimates - Year 2018',\n",
    "              geo = dict(scope='usa',\n",
    "                         showlakes = True,\n",
    "                         lakecolor = 'rgb(85,173,240)')\n",
    "             )"
   ]
  },
  {
   "cell_type": "code",
   "execution_count": 7,
   "metadata": {},
   "outputs": [
    {
     "data": {
      "application/vnd.plotly.v1+json": {
       "config": {
        "linkText": "Export to plot.ly",
        "plotlyServerURL": "https://plot.ly",
        "showLink": false
       },
       "data": [
        {
         "colorbar": {
          "title": {
           "text": "US Population Estimates"
          }
         },
         "colorscale": "Viridis",
         "locationmode": "USA-states",
         "locations": [
          "AL",
          "AK",
          "AZ",
          "AR",
          "CA",
          "CO",
          "CT",
          "DE",
          "DC",
          "FL",
          "GA",
          "HI",
          "ID",
          "IL",
          "IN",
          "IA",
          "KS",
          "KY",
          "LA",
          "ME",
          "MD",
          "MA",
          "MI",
          "MN",
          "MS",
          "MO",
          "MT",
          "NE",
          "NV",
          "NH",
          "NJ",
          "NM",
          "NY",
          "NC",
          "ND",
          "OH",
          "OK",
          "OR",
          "PA",
          "RI",
          "SC",
          "SD",
          "TN",
          "TX",
          "UT",
          "VT",
          "VA",
          "WA",
          "WV",
          "WI",
          "WY"
         ],
         "reversescale": true,
         "text": [
          "Alabama",
          "Alaska",
          "Arizona",
          "Arkansas",
          "California",
          "Colorado",
          "Connecticut",
          "Delaware",
          "District of Columbia",
          "Florida",
          "Georgia",
          "Hawaii",
          "Idaho",
          "Illinois",
          "Indiana",
          "Iowa",
          "Kansas",
          "Kentucky",
          "Louisiana",
          "Maine",
          "Maryland",
          "Massachusetts",
          "Michigan",
          "Minnesota",
          "Mississippi",
          "Missouri",
          "Montana",
          "Nebraska",
          "Nevada",
          "New Hampshire",
          "New Jersey",
          "New Mexico",
          "New York",
          "North Carolina",
          "North Dakota",
          "Ohio",
          "Oklahoma",
          "Oregon",
          "Pennsylvania",
          "Rhode Island",
          "South Carolina",
          "South Dakota",
          "Tennessee",
          "Texas",
          "Utah",
          "Vermont",
          "Virginia",
          "Washington",
          "West Virginia",
          "Wisconsin",
          "Wyoming"
         ],
         "type": "choropleth",
         "uid": "c42d1d31-c581-480b-bc9a-0e0a22bed27a",
         "z": [
          4887871,
          737438,
          7171646,
          3013825,
          39557045,
          5695564,
          3572665,
          967171,
          702455,
          21299325,
          10519475,
          1420491,
          1754208,
          12741080,
          6691878,
          3156145,
          2911505,
          4468402,
          4659978,
          1338404,
          6042718,
          6902149,
          9995915,
          5611179,
          2986530,
          6126452,
          1062305,
          1929268,
          3034392,
          1356458,
          8908520,
          2095428,
          19542209,
          10383620,
          760077,
          11689442,
          3943079,
          4190713,
          12807060,
          1057315,
          5084127,
          882235,
          6770010,
          28701845,
          3161105,
          626299,
          8517685,
          7535591,
          1805832,
          5813568,
          577737
         ]
        }
       ],
       "layout": {
        "geo": {
         "lakecolor": "rgb(85,173,240)",
         "scope": "usa",
         "showlakes": true
        },
        "title": {
         "text": "US Population Estimates - Year 2018"
        }
       }
      },
      "text/html": [
       "<div id=\"bff44880-c3d4-40bc-8c1a-7e5d6e295f6d\" style=\"height: 525px; width: 100%;\" class=\"plotly-graph-div\"></div><script type=\"text/javascript\">require([\"plotly\"], function(Plotly) { window.PLOTLYENV=window.PLOTLYENV || {};window.PLOTLYENV.BASE_URL=\"https://plot.ly\";Plotly.newPlot(\"bff44880-c3d4-40bc-8c1a-7e5d6e295f6d\", [{\"colorbar\": {\"title\": {\"text\": \"US Population Estimates\"}}, \"colorscale\": \"Viridis\", \"locationmode\": \"USA-states\", \"locations\": [\"AL\", \"AK\", \"AZ\", \"AR\", \"CA\", \"CO\", \"CT\", \"DE\", \"DC\", \"FL\", \"GA\", \"HI\", \"ID\", \"IL\", \"IN\", \"IA\", \"KS\", \"KY\", \"LA\", \"ME\", \"MD\", \"MA\", \"MI\", \"MN\", \"MS\", \"MO\", \"MT\", \"NE\", \"NV\", \"NH\", \"NJ\", \"NM\", \"NY\", \"NC\", \"ND\", \"OH\", \"OK\", \"OR\", \"PA\", \"RI\", \"SC\", \"SD\", \"TN\", \"TX\", \"UT\", \"VT\", \"VA\", \"WA\", \"WV\", \"WI\", \"WY\"], \"reversescale\": true, \"text\": [\"Alabama\", \"Alaska\", \"Arizona\", \"Arkansas\", \"California\", \"Colorado\", \"Connecticut\", \"Delaware\", \"District of Columbia\", \"Florida\", \"Georgia\", \"Hawaii\", \"Idaho\", \"Illinois\", \"Indiana\", \"Iowa\", \"Kansas\", \"Kentucky\", \"Louisiana\", \"Maine\", \"Maryland\", \"Massachusetts\", \"Michigan\", \"Minnesota\", \"Mississippi\", \"Missouri\", \"Montana\", \"Nebraska\", \"Nevada\", \"New Hampshire\", \"New Jersey\", \"New Mexico\", \"New York\", \"North Carolina\", \"North Dakota\", \"Ohio\", \"Oklahoma\", \"Oregon\", \"Pennsylvania\", \"Rhode Island\", \"South Carolina\", \"South Dakota\", \"Tennessee\", \"Texas\", \"Utah\", \"Vermont\", \"Virginia\", \"Washington\", \"West Virginia\", \"Wisconsin\", \"Wyoming\"], \"z\": [4887871, 737438, 7171646, 3013825, 39557045, 5695564, 3572665, 967171, 702455, 21299325, 10519475, 1420491, 1754208, 12741080, 6691878, 3156145, 2911505, 4468402, 4659978, 1338404, 6042718, 6902149, 9995915, 5611179, 2986530, 6126452, 1062305, 1929268, 3034392, 1356458, 8908520, 2095428, 19542209, 10383620, 760077, 11689442, 3943079, 4190713, 12807060, 1057315, 5084127, 882235, 6770010, 28701845, 3161105, 626299, 8517685, 7535591, 1805832, 5813568, 577737], \"type\": \"choropleth\", \"uid\": \"c42d1d31-c581-480b-bc9a-0e0a22bed27a\"}], {\"geo\": {\"lakecolor\": \"rgb(85,173,240)\", \"scope\": \"usa\", \"showlakes\": true}, \"title\": {\"text\": \"US Population Estimates - Year 2018\"}}, {\"showLink\": false, \"linkText\": \"Export to plot.ly\", \"plotlyServerURL\": \"https://plot.ly\"})});</script><script type=\"text/javascript\">window.addEventListener(\"resize\", function(){window._Plotly.Plots.resize(document.getElementById(\"bff44880-c3d4-40bc-8c1a-7e5d6e295f6d\"));});</script>"
      ],
      "text/vnd.plotly.v1+html": [
       "<div id=\"bff44880-c3d4-40bc-8c1a-7e5d6e295f6d\" style=\"height: 525px; width: 100%;\" class=\"plotly-graph-div\"></div><script type=\"text/javascript\">require([\"plotly\"], function(Plotly) { window.PLOTLYENV=window.PLOTLYENV || {};window.PLOTLYENV.BASE_URL=\"https://plot.ly\";Plotly.newPlot(\"bff44880-c3d4-40bc-8c1a-7e5d6e295f6d\", [{\"colorbar\": {\"title\": {\"text\": \"US Population Estimates\"}}, \"colorscale\": \"Viridis\", \"locationmode\": \"USA-states\", \"locations\": [\"AL\", \"AK\", \"AZ\", \"AR\", \"CA\", \"CO\", \"CT\", \"DE\", \"DC\", \"FL\", \"GA\", \"HI\", \"ID\", \"IL\", \"IN\", \"IA\", \"KS\", \"KY\", \"LA\", \"ME\", \"MD\", \"MA\", \"MI\", \"MN\", \"MS\", \"MO\", \"MT\", \"NE\", \"NV\", \"NH\", \"NJ\", \"NM\", \"NY\", \"NC\", \"ND\", \"OH\", \"OK\", \"OR\", \"PA\", \"RI\", \"SC\", \"SD\", \"TN\", \"TX\", \"UT\", \"VT\", \"VA\", \"WA\", \"WV\", \"WI\", \"WY\"], \"reversescale\": true, \"text\": [\"Alabama\", \"Alaska\", \"Arizona\", \"Arkansas\", \"California\", \"Colorado\", \"Connecticut\", \"Delaware\", \"District of Columbia\", \"Florida\", \"Georgia\", \"Hawaii\", \"Idaho\", \"Illinois\", \"Indiana\", \"Iowa\", \"Kansas\", \"Kentucky\", \"Louisiana\", \"Maine\", \"Maryland\", \"Massachusetts\", \"Michigan\", \"Minnesota\", \"Mississippi\", \"Missouri\", \"Montana\", \"Nebraska\", \"Nevada\", \"New Hampshire\", \"New Jersey\", \"New Mexico\", \"New York\", \"North Carolina\", \"North Dakota\", \"Ohio\", \"Oklahoma\", \"Oregon\", \"Pennsylvania\", \"Rhode Island\", \"South Carolina\", \"South Dakota\", \"Tennessee\", \"Texas\", \"Utah\", \"Vermont\", \"Virginia\", \"Washington\", \"West Virginia\", \"Wisconsin\", \"Wyoming\"], \"z\": [4887871, 737438, 7171646, 3013825, 39557045, 5695564, 3572665, 967171, 702455, 21299325, 10519475, 1420491, 1754208, 12741080, 6691878, 3156145, 2911505, 4468402, 4659978, 1338404, 6042718, 6902149, 9995915, 5611179, 2986530, 6126452, 1062305, 1929268, 3034392, 1356458, 8908520, 2095428, 19542209, 10383620, 760077, 11689442, 3943079, 4190713, 12807060, 1057315, 5084127, 882235, 6770010, 28701845, 3161105, 626299, 8517685, 7535591, 1805832, 5813568, 577737], \"type\": \"choropleth\", \"uid\": \"c42d1d31-c581-480b-bc9a-0e0a22bed27a\"}], {\"geo\": {\"lakecolor\": \"rgb(85,173,240)\", \"scope\": \"usa\", \"showlakes\": true}, \"title\": {\"text\": \"US Population Estimates - Year 2018\"}}, {\"showLink\": false, \"linkText\": \"Export to plot.ly\", \"plotlyServerURL\": \"https://plot.ly\"})});</script><script type=\"text/javascript\">window.addEventListener(\"resize\", function(){window._Plotly.Plots.resize(document.getElementById(\"bff44880-c3d4-40bc-8c1a-7e5d6e295f6d\"));});</script>"
      ]
     },
     "metadata": {},
     "output_type": "display_data"
    }
   ],
   "source": [
    "choromap = go.Figure(data = [data],layout = layout)\n",
    "iplot(choromap,validate=False)"
   ]
  },
  {
   "cell_type": "markdown",
   "metadata": {},
   "source": [
    "Let's examine the data more closely to find any trend over time. To do this, create a new column that stores the population difference between year 2013 and 2018. (recent 5 years)"
   ]
  },
  {
   "cell_type": "code",
   "execution_count": 8,
   "metadata": {},
   "outputs": [],
   "source": [
    "df['population change (2013-2018)'] = df['2018'] - df['2013']\n",
    "df['population change by percent (2013-2018)'] = (df['2018'] - df['2013'])/df['2013'] * 100"
   ]
  },
  {
   "cell_type": "markdown",
   "metadata": {},
   "source": [
    "Notice that some states show decreasing population trend in recent 5 years. "
   ]
  },
  {
   "cell_type": "code",
   "execution_count": 9,
   "metadata": {},
   "outputs": [
    {
     "data": {
      "text/html": [
       "<div>\n",
       "<style scoped>\n",
       "    .dataframe tbody tr th:only-of-type {\n",
       "        vertical-align: middle;\n",
       "    }\n",
       "\n",
       "    .dataframe tbody tr th {\n",
       "        vertical-align: top;\n",
       "    }\n",
       "\n",
       "    .dataframe thead th {\n",
       "        text-align: right;\n",
       "    }\n",
       "</style>\n",
       "<table border=\"1\" class=\"dataframe\">\n",
       "  <thead>\n",
       "    <tr style=\"text-align: right;\">\n",
       "      <th></th>\n",
       "      <th>State</th>\n",
       "      <th>State Abv</th>\n",
       "      <th>2013</th>\n",
       "      <th>2018</th>\n",
       "      <th>population change (2013-2018)</th>\n",
       "      <th>population change by percent (2013-2018)</th>\n",
       "    </tr>\n",
       "  </thead>\n",
       "  <tbody>\n",
       "    <tr>\n",
       "      <th>6</th>\n",
       "      <td>Connecticut</td>\n",
       "      <td>CT</td>\n",
       "      <td>3594915</td>\n",
       "      <td>3572665</td>\n",
       "      <td>-22250</td>\n",
       "      <td>-0.618930</td>\n",
       "    </tr>\n",
       "    <tr>\n",
       "      <th>13</th>\n",
       "      <td>Illinois</td>\n",
       "      <td>IL</td>\n",
       "      <td>12898269</td>\n",
       "      <td>12741080</td>\n",
       "      <td>-157189</td>\n",
       "      <td>-1.218683</td>\n",
       "    </tr>\n",
       "    <tr>\n",
       "      <th>24</th>\n",
       "      <td>Mississippi</td>\n",
       "      <td>MS</td>\n",
       "      <td>2988797</td>\n",
       "      <td>2986530</td>\n",
       "      <td>-2267</td>\n",
       "      <td>-0.075850</td>\n",
       "    </tr>\n",
       "    <tr>\n",
       "      <th>32</th>\n",
       "      <td>New York</td>\n",
       "      <td>NY</td>\n",
       "      <td>19628043</td>\n",
       "      <td>19542209</td>\n",
       "      <td>-85834</td>\n",
       "      <td>-0.437303</td>\n",
       "    </tr>\n",
       "    <tr>\n",
       "      <th>48</th>\n",
       "      <td>West Virginia</td>\n",
       "      <td>WV</td>\n",
       "      <td>1853873</td>\n",
       "      <td>1805832</td>\n",
       "      <td>-48041</td>\n",
       "      <td>-2.591386</td>\n",
       "    </tr>\n",
       "    <tr>\n",
       "      <th>50</th>\n",
       "      <td>Wyoming</td>\n",
       "      <td>WY</td>\n",
       "      <td>582123</td>\n",
       "      <td>577737</td>\n",
       "      <td>-4386</td>\n",
       "      <td>-0.753449</td>\n",
       "    </tr>\n",
       "  </tbody>\n",
       "</table>\n",
       "</div>"
      ],
      "text/plain": [
       "            State State Abv      2013      2018  \\\n",
       "6     Connecticut        CT   3594915   3572665   \n",
       "13       Illinois        IL  12898269  12741080   \n",
       "24    Mississippi        MS   2988797   2986530   \n",
       "32       New York        NY  19628043  19542209   \n",
       "48  West Virginia        WV   1853873   1805832   \n",
       "50        Wyoming        WY    582123    577737   \n",
       "\n",
       "    population change (2013-2018)  population change by percent (2013-2018)  \n",
       "6                          -22250                                 -0.618930  \n",
       "13                        -157189                                 -1.218683  \n",
       "24                          -2267                                 -0.075850  \n",
       "32                         -85834                                 -0.437303  \n",
       "48                         -48041                                 -2.591386  \n",
       "50                          -4386                                 -0.753449  "
      ]
     },
     "execution_count": 9,
     "metadata": {},
     "output_type": "execute_result"
    }
   ],
   "source": [
    "df[df['population change (2013-2018)'] < 0][['State','State Abv','2013','2018','population change (2013-2018)','population change by percent (2013-2018)']]"
   ]
  },
  {
   "cell_type": "markdown",
   "metadata": {},
   "source": [
    "Sort the resulting table by population change percent in descending order."
   ]
  },
  {
   "cell_type": "code",
   "execution_count": 10,
   "metadata": {},
   "outputs": [
    {
     "data": {
      "text/html": [
       "<div>\n",
       "<style scoped>\n",
       "    .dataframe tbody tr th:only-of-type {\n",
       "        vertical-align: middle;\n",
       "    }\n",
       "\n",
       "    .dataframe tbody tr th {\n",
       "        vertical-align: top;\n",
       "    }\n",
       "\n",
       "    .dataframe thead th {\n",
       "        text-align: right;\n",
       "    }\n",
       "</style>\n",
       "<table border=\"1\" class=\"dataframe\">\n",
       "  <thead>\n",
       "    <tr style=\"text-align: right;\">\n",
       "      <th></th>\n",
       "      <th>State</th>\n",
       "      <th>State Abv</th>\n",
       "      <th>2013</th>\n",
       "      <th>2018</th>\n",
       "      <th>population change (2013-2018)</th>\n",
       "      <th>population change by percent (2013-2018)</th>\n",
       "    </tr>\n",
       "  </thead>\n",
       "  <tbody>\n",
       "    <tr>\n",
       "      <th>48</th>\n",
       "      <td>West Virginia</td>\n",
       "      <td>WV</td>\n",
       "      <td>1853873</td>\n",
       "      <td>1805832</td>\n",
       "      <td>-48041</td>\n",
       "      <td>-2.591386</td>\n",
       "    </tr>\n",
       "    <tr>\n",
       "      <th>13</th>\n",
       "      <td>Illinois</td>\n",
       "      <td>IL</td>\n",
       "      <td>12898269</td>\n",
       "      <td>12741080</td>\n",
       "      <td>-157189</td>\n",
       "      <td>-1.218683</td>\n",
       "    </tr>\n",
       "    <tr>\n",
       "      <th>50</th>\n",
       "      <td>Wyoming</td>\n",
       "      <td>WY</td>\n",
       "      <td>582123</td>\n",
       "      <td>577737</td>\n",
       "      <td>-4386</td>\n",
       "      <td>-0.753449</td>\n",
       "    </tr>\n",
       "    <tr>\n",
       "      <th>6</th>\n",
       "      <td>Connecticut</td>\n",
       "      <td>CT</td>\n",
       "      <td>3594915</td>\n",
       "      <td>3572665</td>\n",
       "      <td>-22250</td>\n",
       "      <td>-0.618930</td>\n",
       "    </tr>\n",
       "    <tr>\n",
       "      <th>32</th>\n",
       "      <td>New York</td>\n",
       "      <td>NY</td>\n",
       "      <td>19628043</td>\n",
       "      <td>19542209</td>\n",
       "      <td>-85834</td>\n",
       "      <td>-0.437303</td>\n",
       "    </tr>\n",
       "    <tr>\n",
       "      <th>24</th>\n",
       "      <td>Mississippi</td>\n",
       "      <td>MS</td>\n",
       "      <td>2988797</td>\n",
       "      <td>2986530</td>\n",
       "      <td>-2267</td>\n",
       "      <td>-0.075850</td>\n",
       "    </tr>\n",
       "  </tbody>\n",
       "</table>\n",
       "</div>"
      ],
      "text/plain": [
       "            State State Abv      2013      2018  \\\n",
       "48  West Virginia        WV   1853873   1805832   \n",
       "13       Illinois        IL  12898269  12741080   \n",
       "50        Wyoming        WY    582123    577737   \n",
       "6     Connecticut        CT   3594915   3572665   \n",
       "32       New York        NY  19628043  19542209   \n",
       "24    Mississippi        MS   2988797   2986530   \n",
       "\n",
       "    population change (2013-2018)  population change by percent (2013-2018)  \n",
       "48                         -48041                                 -2.591386  \n",
       "13                        -157189                                 -1.218683  \n",
       "50                          -4386                                 -0.753449  \n",
       "6                          -22250                                 -0.618930  \n",
       "32                         -85834                                 -0.437303  \n",
       "24                          -2267                                 -0.075850  "
      ]
     },
     "execution_count": 10,
     "metadata": {},
     "output_type": "execute_result"
    }
   ],
   "source": [
    "df[df['population change (2013-2018)'] < 0][['State','State Abv','2013','2018','population change (2013-2018)','population change by percent (2013-2018)']].sort_values(by='population change by percent (2013-2018)')"
   ]
  },
  {
   "cell_type": "markdown",
   "metadata": {},
   "source": [
    "Let's draw the population change in the U.S map."
   ]
  },
  {
   "cell_type": "code",
   "execution_count": 11,
   "metadata": {},
   "outputs": [],
   "source": [
    "data = dict(type='choropleth',\n",
    "            colorscale = 'Portland',\n",
    "            reversescale = True,\n",
    "            locations = df['State Abv'],\n",
    "            z = df['population change by percent (2013-2018)'],\n",
    "            locationmode = 'USA-states',\n",
    "            text = df['State'],\n",
    "            colorbar = {'title':\"US Population Change\"}\n",
    "            ) "
   ]
  },
  {
   "cell_type": "code",
   "execution_count": 12,
   "metadata": {},
   "outputs": [],
   "source": [
    "layout = dict(title = 'Population change by percent (2013-2018)',\n",
    "              geo = dict(scope='usa',\n",
    "                         showlakes = True,\n",
    "                         lakecolor = 'rgb(85,173,240)')\n",
    "             )"
   ]
  },
  {
   "cell_type": "code",
   "execution_count": 13,
   "metadata": {},
   "outputs": [
    {
     "data": {
      "application/vnd.plotly.v1+json": {
       "config": {
        "linkText": "Export to plot.ly",
        "plotlyServerURL": "https://plot.ly",
        "showLink": false
       },
       "data": [
        {
         "colorbar": {
          "title": {
           "text": "US Population Change"
          }
         },
         "colorscale": "Portland",
         "locationmode": "USA-states",
         "locations": [
          "AL",
          "AK",
          "AZ",
          "AR",
          "CA",
          "CO",
          "CT",
          "DE",
          "DC",
          "FL",
          "GA",
          "HI",
          "ID",
          "IL",
          "IN",
          "IA",
          "KS",
          "KY",
          "LA",
          "ME",
          "MD",
          "MA",
          "MI",
          "MN",
          "MS",
          "MO",
          "MT",
          "NE",
          "NV",
          "NH",
          "NJ",
          "NM",
          "NY",
          "NC",
          "ND",
          "OH",
          "OK",
          "OR",
          "PA",
          "RI",
          "SC",
          "SD",
          "TN",
          "TX",
          "UT",
          "VT",
          "VA",
          "WA",
          "WV",
          "WI",
          "WY"
         ],
         "reversescale": true,
         "text": [
          "Alabama",
          "Alaska",
          "Arizona",
          "Arkansas",
          "California",
          "Colorado",
          "Connecticut",
          "Delaware",
          "District of Columbia",
          "Florida",
          "Georgia",
          "Hawaii",
          "Idaho",
          "Illinois",
          "Indiana",
          "Iowa",
          "Kansas",
          "Kentucky",
          "Louisiana",
          "Maine",
          "Maryland",
          "Massachusetts",
          "Michigan",
          "Minnesota",
          "Mississippi",
          "Missouri",
          "Montana",
          "Nebraska",
          "Nevada",
          "New Hampshire",
          "New Jersey",
          "New Mexico",
          "New York",
          "North Carolina",
          "North Dakota",
          "Ohio",
          "Oklahoma",
          "Oregon",
          "Pennsylvania",
          "Rhode Island",
          "South Carolina",
          "South Dakota",
          "Tennessee",
          "Texas",
          "Utah",
          "Vermont",
          "Virginia",
          "Washington",
          "West Virginia",
          "Wisconsin",
          "Wyoming"
         ],
         "type": "choropleth",
         "uid": "104332c7-6200-4b84-88ef-70d128d3b32b",
         "z": [
          1.1885203479585795,
          0.053321031958699944,
          8.088124806047446,
          1.8339280748519453,
          3.333838895421896,
          8.065334441897344,
          -0.6189297938894244,
          4.713210153761539,
          7.998388760683301,
          8.874632050865387,
          5.476096940980371,
          0.8546966068445307,
          8.853573932846427,
          -1.218682910086617,
          1.8803912753352545,
          2.038972182402125,
          0.621909030900187,
          1.443533295480834,
          0.7654970389724293,
          0.7685612665600559,
          2.009114567507087,
          2.8031958562657064,
          0.8328769621648546,
          3.647898024509332,
          -0.07584991553457796,
          1.4202757381728943,
          4.808872454033489,
          3.42304710911358,
          9.269808986190714,
          2.265517095795562,
          0.5662220622729124,
          0.12595613897606642,
          -0.4373028936201128,
          5.486011772726622,
          5.27396852350211,
          0.9749514882466112,
          2.3324479232223565,
          6.826695910278803,
          0.23823982882485129,
          0.20784326362259528,
          6.716283041287717,
          4.744915525900246,
          4.259350063263926,
          8.351928147734512,
          9.081595223068076,
          0.013893058580800113,
          3.206474016342801,
          8.224798668831664,
          -2.5913857098086006,
          1.3354826744236312,
          -0.7534490133528481
         ]
        }
       ],
       "layout": {
        "geo": {
         "lakecolor": "rgb(85,173,240)",
         "scope": "usa",
         "showlakes": true
        },
        "title": {
         "text": "Population change by percent (2013-2018)"
        }
       }
      },
      "text/html": [
       "<div id=\"2f4daff1-fdbf-42b4-98fb-4e7cc02ea6ed\" style=\"height: 525px; width: 100%;\" class=\"plotly-graph-div\"></div><script type=\"text/javascript\">require([\"plotly\"], function(Plotly) { window.PLOTLYENV=window.PLOTLYENV || {};window.PLOTLYENV.BASE_URL=\"https://plot.ly\";Plotly.newPlot(\"2f4daff1-fdbf-42b4-98fb-4e7cc02ea6ed\", [{\"colorbar\": {\"title\": {\"text\": \"US Population Change\"}}, \"colorscale\": \"Portland\", \"locationmode\": \"USA-states\", \"locations\": [\"AL\", \"AK\", \"AZ\", \"AR\", \"CA\", \"CO\", \"CT\", \"DE\", \"DC\", \"FL\", \"GA\", \"HI\", \"ID\", \"IL\", \"IN\", \"IA\", \"KS\", \"KY\", \"LA\", \"ME\", \"MD\", \"MA\", \"MI\", \"MN\", \"MS\", \"MO\", \"MT\", \"NE\", \"NV\", \"NH\", \"NJ\", \"NM\", \"NY\", \"NC\", \"ND\", \"OH\", \"OK\", \"OR\", \"PA\", \"RI\", \"SC\", \"SD\", \"TN\", \"TX\", \"UT\", \"VT\", \"VA\", \"WA\", \"WV\", \"WI\", \"WY\"], \"reversescale\": true, \"text\": [\"Alabama\", \"Alaska\", \"Arizona\", \"Arkansas\", \"California\", \"Colorado\", \"Connecticut\", \"Delaware\", \"District of Columbia\", \"Florida\", \"Georgia\", \"Hawaii\", \"Idaho\", \"Illinois\", \"Indiana\", \"Iowa\", \"Kansas\", \"Kentucky\", \"Louisiana\", \"Maine\", \"Maryland\", \"Massachusetts\", \"Michigan\", \"Minnesota\", \"Mississippi\", \"Missouri\", \"Montana\", \"Nebraska\", \"Nevada\", \"New Hampshire\", \"New Jersey\", \"New Mexico\", \"New York\", \"North Carolina\", \"North Dakota\", \"Ohio\", \"Oklahoma\", \"Oregon\", \"Pennsylvania\", \"Rhode Island\", \"South Carolina\", \"South Dakota\", \"Tennessee\", \"Texas\", \"Utah\", \"Vermont\", \"Virginia\", \"Washington\", \"West Virginia\", \"Wisconsin\", \"Wyoming\"], \"z\": [1.1885203479585795, 0.053321031958699944, 8.088124806047446, 1.8339280748519453, 3.333838895421896, 8.065334441897344, -0.6189297938894244, 4.713210153761539, 7.998388760683301, 8.874632050865387, 5.476096940980371, 0.8546966068445307, 8.853573932846427, -1.218682910086617, 1.8803912753352545, 2.038972182402125, 0.621909030900187, 1.443533295480834, 0.7654970389724293, 0.7685612665600559, 2.009114567507087, 2.8031958562657064, 0.8328769621648546, 3.647898024509332, -0.07584991553457796, 1.4202757381728943, 4.808872454033489, 3.42304710911358, 9.269808986190714, 2.265517095795562, 0.5662220622729124, 0.12595613897606642, -0.4373028936201128, 5.486011772726622, 5.27396852350211, 0.9749514882466112, 2.3324479232223565, 6.826695910278803, 0.23823982882485129, 0.20784326362259528, 6.716283041287717, 4.744915525900246, 4.259350063263926, 8.351928147734512, 9.081595223068076, 0.013893058580800113, 3.206474016342801, 8.224798668831664, -2.5913857098086006, 1.3354826744236312, -0.7534490133528481], \"type\": \"choropleth\", \"uid\": \"104332c7-6200-4b84-88ef-70d128d3b32b\"}], {\"geo\": {\"lakecolor\": \"rgb(85,173,240)\", \"scope\": \"usa\", \"showlakes\": true}, \"title\": {\"text\": \"Population change by percent (2013-2018)\"}}, {\"showLink\": false, \"linkText\": \"Export to plot.ly\", \"plotlyServerURL\": \"https://plot.ly\"})});</script><script type=\"text/javascript\">window.addEventListener(\"resize\", function(){window._Plotly.Plots.resize(document.getElementById(\"2f4daff1-fdbf-42b4-98fb-4e7cc02ea6ed\"));});</script>"
      ],
      "text/vnd.plotly.v1+html": [
       "<div id=\"2f4daff1-fdbf-42b4-98fb-4e7cc02ea6ed\" style=\"height: 525px; width: 100%;\" class=\"plotly-graph-div\"></div><script type=\"text/javascript\">require([\"plotly\"], function(Plotly) { window.PLOTLYENV=window.PLOTLYENV || {};window.PLOTLYENV.BASE_URL=\"https://plot.ly\";Plotly.newPlot(\"2f4daff1-fdbf-42b4-98fb-4e7cc02ea6ed\", [{\"colorbar\": {\"title\": {\"text\": \"US Population Change\"}}, \"colorscale\": \"Portland\", \"locationmode\": \"USA-states\", \"locations\": [\"AL\", \"AK\", \"AZ\", \"AR\", \"CA\", \"CO\", \"CT\", \"DE\", \"DC\", \"FL\", \"GA\", \"HI\", \"ID\", \"IL\", \"IN\", \"IA\", \"KS\", \"KY\", \"LA\", \"ME\", \"MD\", \"MA\", \"MI\", \"MN\", \"MS\", \"MO\", \"MT\", \"NE\", \"NV\", \"NH\", \"NJ\", \"NM\", \"NY\", \"NC\", \"ND\", \"OH\", \"OK\", \"OR\", \"PA\", \"RI\", \"SC\", \"SD\", \"TN\", \"TX\", \"UT\", \"VT\", \"VA\", \"WA\", \"WV\", \"WI\", \"WY\"], \"reversescale\": true, \"text\": [\"Alabama\", \"Alaska\", \"Arizona\", \"Arkansas\", \"California\", \"Colorado\", \"Connecticut\", \"Delaware\", \"District of Columbia\", \"Florida\", \"Georgia\", \"Hawaii\", \"Idaho\", \"Illinois\", \"Indiana\", \"Iowa\", \"Kansas\", \"Kentucky\", \"Louisiana\", \"Maine\", \"Maryland\", \"Massachusetts\", \"Michigan\", \"Minnesota\", \"Mississippi\", \"Missouri\", \"Montana\", \"Nebraska\", \"Nevada\", \"New Hampshire\", \"New Jersey\", \"New Mexico\", \"New York\", \"North Carolina\", \"North Dakota\", \"Ohio\", \"Oklahoma\", \"Oregon\", \"Pennsylvania\", \"Rhode Island\", \"South Carolina\", \"South Dakota\", \"Tennessee\", \"Texas\", \"Utah\", \"Vermont\", \"Virginia\", \"Washington\", \"West Virginia\", \"Wisconsin\", \"Wyoming\"], \"z\": [1.1885203479585795, 0.053321031958699944, 8.088124806047446, 1.8339280748519453, 3.333838895421896, 8.065334441897344, -0.6189297938894244, 4.713210153761539, 7.998388760683301, 8.874632050865387, 5.476096940980371, 0.8546966068445307, 8.853573932846427, -1.218682910086617, 1.8803912753352545, 2.038972182402125, 0.621909030900187, 1.443533295480834, 0.7654970389724293, 0.7685612665600559, 2.009114567507087, 2.8031958562657064, 0.8328769621648546, 3.647898024509332, -0.07584991553457796, 1.4202757381728943, 4.808872454033489, 3.42304710911358, 9.269808986190714, 2.265517095795562, 0.5662220622729124, 0.12595613897606642, -0.4373028936201128, 5.486011772726622, 5.27396852350211, 0.9749514882466112, 2.3324479232223565, 6.826695910278803, 0.23823982882485129, 0.20784326362259528, 6.716283041287717, 4.744915525900246, 4.259350063263926, 8.351928147734512, 9.081595223068076, 0.013893058580800113, 3.206474016342801, 8.224798668831664, -2.5913857098086006, 1.3354826744236312, -0.7534490133528481], \"type\": \"choropleth\", \"uid\": \"104332c7-6200-4b84-88ef-70d128d3b32b\"}], {\"geo\": {\"lakecolor\": \"rgb(85,173,240)\", \"scope\": \"usa\", \"showlakes\": true}, \"title\": {\"text\": \"Population change by percent (2013-2018)\"}}, {\"showLink\": false, \"linkText\": \"Export to plot.ly\", \"plotlyServerURL\": \"https://plot.ly\"})});</script><script type=\"text/javascript\">window.addEventListener(\"resize\", function(){window._Plotly.Plots.resize(document.getElementById(\"2f4daff1-fdbf-42b4-98fb-4e7cc02ea6ed\"));});</script>"
      ]
     },
     "metadata": {},
     "output_type": "display_data"
    }
   ],
   "source": [
    "choromap = go.Figure(data = [data],layout = layout)\n",
    "iplot(choromap,validate=False)"
   ]
  },
  {
   "cell_type": "markdown",
   "metadata": {},
   "source": [
    "We can easily see that West Virginia has experienced the most population decrease by percent among 50 states."
   ]
  },
  {
   "cell_type": "code",
   "execution_count": null,
   "metadata": {},
   "outputs": [],
   "source": []
  }
 ],
 "metadata": {
  "kernelspec": {
   "display_name": "Python 3",
   "language": "python",
   "name": "python3"
  },
  "language_info": {
   "codemirror_mode": {
    "name": "ipython",
    "version": 3
   },
   "file_extension": ".py",
   "mimetype": "text/x-python",
   "name": "python",
   "nbconvert_exporter": "python",
   "pygments_lexer": "ipython3",
   "version": "3.6.8"
  }
 },
 "nbformat": 4,
 "nbformat_minor": 2
}
